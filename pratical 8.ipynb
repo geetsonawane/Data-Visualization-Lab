{
 "cells": [
  {
   "cell_type": "code",
   "execution_count": 19,
   "id": "24fdcb8f-70af-41b9-aec4-f7dac19f1429",
   "metadata": {},
   "outputs": [],
   "source": [
    "import folium "
   ]
  },
  {
   "cell_type": "code",
   "execution_count": 28,
   "id": "a32cc4dc-41e0-43b3-94e1-83f7163035be",
   "metadata": {},
   "outputs": [],
   "source": [
    "maharashtra_map = folium.Map(location=[20.9042, 74.7749], zoom_start=10, tile='Stamen Terrain') "
   ]
  },
  {
   "cell_type": "code",
   "execution_count": 29,
   "id": "1f9b16a0-9650-4e74-bb54-fddc8e718ec0",
   "metadata": {},
   "outputs": [
    {
     "data": {
      "text/plain": [
       "<folium.map.Marker at 0x1b52855fe20>"
      ]
     },
     "execution_count": 29,
     "metadata": {},
     "output_type": "execute_result"
    }
   ],
   "source": [
    "folium.Marker([20.9042, 74.7749], popup=\"Dhule\").add_to(maharashtra_map)\n"
   ]
  },
  {
   "cell_type": "code",
   "execution_count": 30,
   "id": "88e769eb-0bba-413e-918e-9c7c2902ff25",
   "metadata": {},
   "outputs": [
    {
     "data": {
      "text/plain": [
       "<folium.map.Marker at 0x1b52855edd0>"
      ]
     },
     "execution_count": 30,
     "metadata": {},
     "output_type": "execute_result"
    }
   ],
   "source": [
    "folium.Marker([20.5500, 74.5333], popup=\"Malegaon\").add_to(maharashtra_map)"
   ]
  },
  {
   "cell_type": "code",
   "execution_count": 31,
   "id": "7ba0cd35-c4d6-49e5-a07a-c9fd771052eb",
   "metadata": {},
   "outputs": [
    {
     "data": {
      "text/plain": [
       "<folium.map.Marker at 0x1b50fd0a380>"
      ]
     },
     "execution_count": 31,
     "metadata": {},
     "output_type": "execute_result"
    }
   ],
   "source": [
    "folium.Marker([21.0067, 75.5626], popup=\"Jalgaon\").add_to(maharashtra_map)"
   ]
  },
  {
   "cell_type": "code",
   "execution_count": 32,
   "id": "922c5e70-3774-4f21-a748-99d9a16ce233",
   "metadata": {},
   "outputs": [
    {
     "data": {
      "text/plain": [
       "<folium.map.Marker at 0x1b5285ad8a0>"
      ]
     },
     "execution_count": 32,
     "metadata": {},
     "output_type": "execute_result"
    }
   ],
   "source": [
    "folium.Marker([19.9975, 73.7898], popup=\"Nashik\").add_to(maharashtra_map)"
   ]
  },
  {
   "cell_type": "code",
   "execution_count": 33,
   "id": "d96df244-9218-4fcc-83ad-85254582e6a8",
   "metadata": {},
   "outputs": [
    {
     "data": {
      "text/plain": [
       "<folium.map.Marker at 0x1b5285e9e10>"
      ]
     },
     "execution_count": 33,
     "metadata": {},
     "output_type": "execute_result"
    }
   ],
   "source": [
    "folium.Marker([19.8762, 75.3433], popup=\"Aurangabad\").add_to(maharashtra_map)\n"
   ]
  },
  {
   "cell_type": "code",
   "execution_count": 34,
   "id": "e6c446e2-180b-43ae-aa0a-88a31a28b751",
   "metadata": {},
   "outputs": [],
   "source": [
    "district_population = {\n",
    "    'Dhule':2030678,\n",
    "    'Malegaon':3456987,\n",
    "    'Jalgaon':2345987,\n",
    "    'Nashik':3456887,\n",
    "    'Aurangabad':4567889\n",
    "}"
   ]
  },
  {
   "cell_type": "code",
   "execution_count": 35,
   "id": "2c186659-ab9f-42f2-b131-9527a89192ba",
   "metadata": {},
   "outputs": [
    {
     "data": {
      "text/html": [
       "<div style=\"width:100%;\"><div style=\"position:relative;width:100%;height:0;padding-bottom:60%;\"><span style=\"color:#565656\">Make this Notebook Trusted to load map: File -> Trust Notebook</span><iframe srcdoc=\"&lt;!DOCTYPE html&gt;\n",
       "&lt;html&gt;\n",
       "&lt;head&gt;\n",
       "    \n",
       "    &lt;meta http-equiv=&quot;content-type&quot; content=&quot;text/html; charset=UTF-8&quot; /&gt;\n",
       "    \n",
       "        &lt;script&gt;\n",
       "            L_NO_TOUCH = false;\n",
       "            L_DISABLE_3D = false;\n",
       "        &lt;/script&gt;\n",
       "    \n",
       "    &lt;style&gt;html, body {width: 100%;height: 100%;margin: 0;padding: 0;}&lt;/style&gt;\n",
       "    &lt;style&gt;#map {position:absolute;top:0;bottom:0;right:0;left:0;}&lt;/style&gt;\n",
       "    &lt;script src=&quot;https://cdn.jsdelivr.net/npm/leaflet@1.9.3/dist/leaflet.js&quot;&gt;&lt;/script&gt;\n",
       "    &lt;script src=&quot;https://code.jquery.com/jquery-3.7.1.min.js&quot;&gt;&lt;/script&gt;\n",
       "    &lt;script src=&quot;https://cdn.jsdelivr.net/npm/bootstrap@5.2.2/dist/js/bootstrap.bundle.min.js&quot;&gt;&lt;/script&gt;\n",
       "    &lt;script src=&quot;https://cdnjs.cloudflare.com/ajax/libs/Leaflet.awesome-markers/2.0.2/leaflet.awesome-markers.js&quot;&gt;&lt;/script&gt;\n",
       "    &lt;link rel=&quot;stylesheet&quot; href=&quot;https://cdn.jsdelivr.net/npm/leaflet@1.9.3/dist/leaflet.css&quot;/&gt;\n",
       "    &lt;link rel=&quot;stylesheet&quot; href=&quot;https://cdn.jsdelivr.net/npm/bootstrap@5.2.2/dist/css/bootstrap.min.css&quot;/&gt;\n",
       "    &lt;link rel=&quot;stylesheet&quot; href=&quot;https://netdna.bootstrapcdn.com/bootstrap/3.0.0/css/bootstrap-glyphicons.css&quot;/&gt;\n",
       "    &lt;link rel=&quot;stylesheet&quot; href=&quot;https://cdn.jsdelivr.net/npm/@fortawesome/fontawesome-free@6.2.0/css/all.min.css&quot;/&gt;\n",
       "    &lt;link rel=&quot;stylesheet&quot; href=&quot;https://cdnjs.cloudflare.com/ajax/libs/Leaflet.awesome-markers/2.0.2/leaflet.awesome-markers.css&quot;/&gt;\n",
       "    &lt;link rel=&quot;stylesheet&quot; href=&quot;https://cdn.jsdelivr.net/gh/python-visualization/folium/folium/templates/leaflet.awesome.rotate.min.css&quot;/&gt;\n",
       "    \n",
       "            &lt;meta name=&quot;viewport&quot; content=&quot;width=device-width,\n",
       "                initial-scale=1.0, maximum-scale=1.0, user-scalable=no&quot; /&gt;\n",
       "            &lt;style&gt;\n",
       "                #map_0e8ca9119a85d67df6a05fbd182733e5 {\n",
       "                    position: relative;\n",
       "                    width: 100.0%;\n",
       "                    height: 100.0%;\n",
       "                    left: 0.0%;\n",
       "                    top: 0.0%;\n",
       "                }\n",
       "                .leaflet-container { font-size: 1rem; }\n",
       "            &lt;/style&gt;\n",
       "        \n",
       "&lt;/head&gt;\n",
       "&lt;body&gt;\n",
       "    \n",
       "    \n",
       "            &lt;div class=&quot;folium-map&quot; id=&quot;map_0e8ca9119a85d67df6a05fbd182733e5&quot; &gt;&lt;/div&gt;\n",
       "        \n",
       "&lt;/body&gt;\n",
       "&lt;script&gt;\n",
       "    \n",
       "    \n",
       "            var map_0e8ca9119a85d67df6a05fbd182733e5 = L.map(\n",
       "                &quot;map_0e8ca9119a85d67df6a05fbd182733e5&quot;,\n",
       "                {\n",
       "                    center: [20.9042, 74.7749],\n",
       "                    crs: L.CRS.EPSG3857,\n",
       "                    zoom: 10,\n",
       "                    zoomControl: true,\n",
       "                    preferCanvas: false,\n",
       "                    tile: &quot;Stamen Terrain&quot;,\n",
       "                }\n",
       "            );\n",
       "\n",
       "            \n",
       "\n",
       "        \n",
       "    \n",
       "            var tile_layer_8b58a17291b58f537ccb626b31277835 = L.tileLayer(\n",
       "                &quot;https://tile.openstreetmap.org/{z}/{x}/{y}.png&quot;,\n",
       "                {&quot;attribution&quot;: &quot;\\u0026copy; \\u003ca href=\\&quot;https://www.openstreetmap.org/copyright\\&quot;\\u003eOpenStreetMap\\u003c/a\\u003e contributors&quot;, &quot;detectRetina&quot;: false, &quot;maxNativeZoom&quot;: 19, &quot;maxZoom&quot;: 19, &quot;minZoom&quot;: 0, &quot;noWrap&quot;: false, &quot;opacity&quot;: 1, &quot;subdomains&quot;: &quot;abc&quot;, &quot;tms&quot;: false}\n",
       "            );\n",
       "        \n",
       "    \n",
       "            tile_layer_8b58a17291b58f537ccb626b31277835.addTo(map_0e8ca9119a85d67df6a05fbd182733e5);\n",
       "        \n",
       "    \n",
       "            var marker_a156d89a23ea0cd9cfdc2f67ebe65e31 = L.marker(\n",
       "                [20.9042, 74.7749],\n",
       "                {}\n",
       "            ).addTo(map_0e8ca9119a85d67df6a05fbd182733e5);\n",
       "        \n",
       "    \n",
       "        var popup_df37bfb33da2038e5249c7c70c183ea0 = L.popup({&quot;maxWidth&quot;: &quot;100%&quot;});\n",
       "\n",
       "        \n",
       "            \n",
       "                var html_662bd01507c19f79892f8103b067c8b4 = $(`&lt;div id=&quot;html_662bd01507c19f79892f8103b067c8b4&quot; style=&quot;width: 100.0%; height: 100.0%;&quot;&gt;Dhule&lt;/div&gt;`)[0];\n",
       "                popup_df37bfb33da2038e5249c7c70c183ea0.setContent(html_662bd01507c19f79892f8103b067c8b4);\n",
       "            \n",
       "        \n",
       "\n",
       "        marker_a156d89a23ea0cd9cfdc2f67ebe65e31.bindPopup(popup_df37bfb33da2038e5249c7c70c183ea0)\n",
       "        ;\n",
       "\n",
       "        \n",
       "    \n",
       "    \n",
       "            var marker_af46f57ac5ca1b5eeb59d32c18187ebe = L.marker(\n",
       "                [20.55, 74.5333],\n",
       "                {}\n",
       "            ).addTo(map_0e8ca9119a85d67df6a05fbd182733e5);\n",
       "        \n",
       "    \n",
       "        var popup_fb71f57b7b791e0f4ef6608747163dd9 = L.popup({&quot;maxWidth&quot;: &quot;100%&quot;});\n",
       "\n",
       "        \n",
       "            \n",
       "                var html_6bd82930d89ad954b0892cc3917fd35a = $(`&lt;div id=&quot;html_6bd82930d89ad954b0892cc3917fd35a&quot; style=&quot;width: 100.0%; height: 100.0%;&quot;&gt;Malegaon&lt;/div&gt;`)[0];\n",
       "                popup_fb71f57b7b791e0f4ef6608747163dd9.setContent(html_6bd82930d89ad954b0892cc3917fd35a);\n",
       "            \n",
       "        \n",
       "\n",
       "        marker_af46f57ac5ca1b5eeb59d32c18187ebe.bindPopup(popup_fb71f57b7b791e0f4ef6608747163dd9)\n",
       "        ;\n",
       "\n",
       "        \n",
       "    \n",
       "    \n",
       "            var marker_37163eb77caa13d01c1630dfb4f654cb = L.marker(\n",
       "                [21.0067, 75.5626],\n",
       "                {}\n",
       "            ).addTo(map_0e8ca9119a85d67df6a05fbd182733e5);\n",
       "        \n",
       "    \n",
       "        var popup_3af2156ea72983ee55f087c2dc97630b = L.popup({&quot;maxWidth&quot;: &quot;100%&quot;});\n",
       "\n",
       "        \n",
       "            \n",
       "                var html_f152709d093d0c4eea1041750260aa0c = $(`&lt;div id=&quot;html_f152709d093d0c4eea1041750260aa0c&quot; style=&quot;width: 100.0%; height: 100.0%;&quot;&gt;Jalgaon&lt;/div&gt;`)[0];\n",
       "                popup_3af2156ea72983ee55f087c2dc97630b.setContent(html_f152709d093d0c4eea1041750260aa0c);\n",
       "            \n",
       "        \n",
       "\n",
       "        marker_37163eb77caa13d01c1630dfb4f654cb.bindPopup(popup_3af2156ea72983ee55f087c2dc97630b)\n",
       "        ;\n",
       "\n",
       "        \n",
       "    \n",
       "    \n",
       "            var marker_302adec60b8a308e6e4ce98d629038fb = L.marker(\n",
       "                [19.9975, 73.7898],\n",
       "                {}\n",
       "            ).addTo(map_0e8ca9119a85d67df6a05fbd182733e5);\n",
       "        \n",
       "    \n",
       "        var popup_9924ff790368f13cd4bcdfb5d02f0a5d = L.popup({&quot;maxWidth&quot;: &quot;100%&quot;});\n",
       "\n",
       "        \n",
       "            \n",
       "                var html_56c3671fb603397606995a891ccff812 = $(`&lt;div id=&quot;html_56c3671fb603397606995a891ccff812&quot; style=&quot;width: 100.0%; height: 100.0%;&quot;&gt;Nashik&lt;/div&gt;`)[0];\n",
       "                popup_9924ff790368f13cd4bcdfb5d02f0a5d.setContent(html_56c3671fb603397606995a891ccff812);\n",
       "            \n",
       "        \n",
       "\n",
       "        marker_302adec60b8a308e6e4ce98d629038fb.bindPopup(popup_9924ff790368f13cd4bcdfb5d02f0a5d)\n",
       "        ;\n",
       "\n",
       "        \n",
       "    \n",
       "    \n",
       "            var marker_bffeb53798f2b3918e8f3f58a94e1a81 = L.marker(\n",
       "                [19.8762, 75.3433],\n",
       "                {}\n",
       "            ).addTo(map_0e8ca9119a85d67df6a05fbd182733e5);\n",
       "        \n",
       "    \n",
       "        var popup_03acab84fe31af18967975cb79213fb6 = L.popup({&quot;maxWidth&quot;: &quot;100%&quot;});\n",
       "\n",
       "        \n",
       "            \n",
       "                var html_8c3f05188e7e4ec4e03b4a1f713f02ef = $(`&lt;div id=&quot;html_8c3f05188e7e4ec4e03b4a1f713f02ef&quot; style=&quot;width: 100.0%; height: 100.0%;&quot;&gt;Aurangabad&lt;/div&gt;`)[0];\n",
       "                popup_03acab84fe31af18967975cb79213fb6.setContent(html_8c3f05188e7e4ec4e03b4a1f713f02ef);\n",
       "            \n",
       "        \n",
       "\n",
       "        marker_bffeb53798f2b3918e8f3f58a94e1a81.bindPopup(popup_03acab84fe31af18967975cb79213fb6)\n",
       "        ;\n",
       "\n",
       "        \n",
       "    \n",
       "&lt;/script&gt;\n",
       "&lt;/html&gt;\" style=\"position:absolute;width:100%;height:100%;left:0;top:0;border:none !important;\" allowfullscreen webkitallowfullscreen mozallowfullscreen></iframe></div></div>"
      ],
      "text/plain": [
       "<folium.folium.Map at 0x1b5285eab90>"
      ]
     },
     "execution_count": 35,
     "metadata": {},
     "output_type": "execute_result"
    }
   ],
   "source": [
    "maharashtra_map "
   ]
  },
  {
   "cell_type": "code",
   "execution_count": null,
   "id": "bb5e56a7-09e6-415e-8525-722a17d18f96",
   "metadata": {},
   "outputs": [],
   "source": []
  }
 ],
 "metadata": {
  "kernelspec": {
   "display_name": "Python 3 (ipykernel)",
   "language": "python",
   "name": "python3"
  },
  "language_info": {
   "codemirror_mode": {
    "name": "ipython",
    "version": 3
   },
   "file_extension": ".py",
   "mimetype": "text/x-python",
   "name": "python",
   "nbconvert_exporter": "python",
   "pygments_lexer": "ipython3",
   "version": "3.10.10"
  }
 },
 "nbformat": 4,
 "nbformat_minor": 5
}
