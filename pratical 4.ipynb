{
 "cells": [
  {
   "cell_type": "code",
   "execution_count": 10,
   "id": "2844ae40-75c1-4fe2-917a-f26a5e1cccdd",
   "metadata": {},
   "outputs": [],
   "source": [
    "import pandas as pd \n",
    "import numpy as np"
   ]
  },
  {
   "cell_type": "code",
   "execution_count": 11,
   "id": "0184b9ec-e21f-45ac-ba13-d918e4a291e1",
   "metadata": {},
   "outputs": [],
   "source": [
    "data={\n",
    "    'Name':['Geet','Madhura','Shweta','Anushka'],\n",
    "    'Age':[20,21,19,np.nan],\n",
    "    'City':['Dhule','Nardana','Dhule','Pune']\n",
    "}"
   ]
  },
  {
   "cell_type": "code",
   "execution_count": 12,
   "id": "2a6674f2-d842-4166-8224-427651e12c79",
   "metadata": {},
   "outputs": [],
   "source": [
    "df = pd.DataFrame(data)"
   ]
  },
  {
   "cell_type": "code",
   "execution_count": 19,
   "id": "e066efdb-66f5-4370-8461-b0e888d92928",
   "metadata": {},
   "outputs": [
    {
     "name": "stdout",
     "output_type": "stream",
     "text": [
      "Non Null Enteries:\n",
      " Name    4\n",
      "Age     4\n",
      "City    4\n",
      "dtype: int64\n"
     ]
    }
   ],
   "source": [
    "non_null = df.count()\n",
    "print(\"Non Null Enteries:\\n\",non_null)"
   ]
  },
  {
   "cell_type": "code",
   "execution_count": 13,
   "id": "d6e77706-f11c-4e58-8089-b7fa288c38a8",
   "metadata": {},
   "outputs": [
    {
     "name": "stdout",
     "output_type": "stream",
     "text": [
      "\n",
      " stati)stical describe of dataframe          Age\n",
      "count   3.0\n",
      "mean   20.0\n",
      "std     1.0\n",
      "min    19.0\n",
      "25%    19.5\n",
      "50%    20.0\n",
      "75%    20.5\n",
      "max    21.0\n"
     ]
    }
   ],
   "source": [
    "statistical_describe =  df.describe()\n",
    "print(\"\\n stati)stical describe of dataframe \",statistical_describe)"
   ]
  },
  {
   "cell_type": "code",
   "execution_count": 16,
   "id": "3a339aaf-9528-43dc-90c5-3263feaa6c53",
   "metadata": {},
   "outputs": [
    {
     "name": "stdout",
     "output_type": "stream",
     "text": [
      "DataFrame after drop duplicate \n",
      "        Name   Age     City\n",
      "0     Geet  20.0    Dhule\n",
      "1  Madhura  21.0  Nardana\n",
      "2   Shweta  19.0    Dhule\n",
      "3  Anushka   NaN     Pune\n"
     ]
    }
   ],
   "source": [
    "duplicate = df.drop_duplicates()\n",
    "print(\"DataFrame after drop duplicate \\n \",duplicate)"
   ]
  },
  {
   "cell_type": "code",
   "execution_count": 18,
   "id": "69409e5e-0569-4ea7-ad7d-f248c5a9af02",
   "metadata": {},
   "outputs": [
    {
     "name": "stdout",
     "output_type": "stream",
     "text": [
      "Is the Original DataFrame empty ?\n",
      " False\n"
     ]
    }
   ],
   "source": [
    "is_empty = df.empty\n",
    "print(\"Is the Original DataFrame empty ?\\n\",is_empty)\n"
   ]
  },
  {
   "cell_type": "code",
   "execution_count": 26,
   "id": "791ea65c-8124-403e-ad17-46a283b91c3e",
   "metadata": {},
   "outputs": [
    {
     "name": "stdout",
     "output_type": "stream",
     "text": [
      "Records containing city as Dhule  : \n",
      " 0     True\n",
      "1    False\n",
      "2     True\n",
      "3    False\n",
      "Name: City, dtype: bool\n"
     ]
    }
   ],
   "source": [
    "dhule_df = df[df['City']=='Dhule']\n",
    "print(\"Records containing city as Dhule  : \\n\",dhule)"
   ]
  },
  {
   "cell_type": "code",
   "execution_count": 29,
   "id": "e97e450a-be8b-4707-979a-86041d43a477",
   "metadata": {},
   "outputs": [
    {
     "name": "stdout",
     "output_type": "stream",
     "text": [
      " Are the original DataFrame equals to its copy ?\n",
      " True\n"
     ]
    }
   ],
   "source": [
    "df_copy = pd.DataFrame(data)\n",
    "are_equal = df.equals(df_copy)\n",
    "print(\" Are the original DataFrame equals to its copy ?\\n\",are_equal)"
   ]
  },
  {
   "cell_type": "code",
   "execution_count": null,
   "id": "89c23803-e37f-4b74-be96-516cdfc7384e",
   "metadata": {},
   "outputs": [],
   "source": []
  }
 ],
 "metadata": {
  "kernelspec": {
   "display_name": "Python 3 (ipykernel)",
   "language": "python",
   "name": "python3"
  },
  "language_info": {
   "codemirror_mode": {
    "name": "ipython",
    "version": 3
   },
   "file_extension": ".py",
   "mimetype": "text/x-python",
   "name": "python",
   "nbconvert_exporter": "python",
   "pygments_lexer": "ipython3",
   "version": "3.10.10"
  }
 },
 "nbformat": 4,
 "nbformat_minor": 5
}
